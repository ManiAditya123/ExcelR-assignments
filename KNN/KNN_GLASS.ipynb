{
 "cells": [
  {
   "cell_type": "code",
   "execution_count": 3,
   "id": "0dc86316",
   "metadata": {},
   "outputs": [],
   "source": [
    "import numpy as np\n",
    "import pandas as pd\n",
    "import seaborn as sns \n",
    "import matplotlib.pyplot as plt\n",
    "from sklearn import preprocessing\n",
    "from sklearn.metrics import accuracy_score, confusion_matrix\n",
    "from sklearn.model_selection import train_test_split, cross_val_score\n",
    "from sklearn.preprocessing import StandardScaler\n",
    "from sklearn.neighbors import KNeighborsClassifier"
   ]
  },
  {
   "cell_type": "code",
   "execution_count": 4,
   "id": "19ad9919",
   "metadata": {},
   "outputs": [],
   "source": [
    "data=pd.read_csv('C:/Users/ADITYA/Downloads/glass.csv')"
   ]
  },
  {
   "cell_type": "code",
   "execution_count": 5,
   "id": "6322cc41",
   "metadata": {},
   "outputs": [
    {
     "data": {
      "text/html": [
       "<div>\n",
       "<style scoped>\n",
       "    .dataframe tbody tr th:only-of-type {\n",
       "        vertical-align: middle;\n",
       "    }\n",
       "\n",
       "    .dataframe tbody tr th {\n",
       "        vertical-align: top;\n",
       "    }\n",
       "\n",
       "    .dataframe thead th {\n",
       "        text-align: right;\n",
       "    }\n",
       "</style>\n",
       "<table border=\"1\" class=\"dataframe\">\n",
       "  <thead>\n",
       "    <tr style=\"text-align: right;\">\n",
       "      <th></th>\n",
       "      <th>RI</th>\n",
       "      <th>Na</th>\n",
       "      <th>Mg</th>\n",
       "      <th>Al</th>\n",
       "      <th>Si</th>\n",
       "      <th>K</th>\n",
       "      <th>Ca</th>\n",
       "      <th>Ba</th>\n",
       "      <th>Fe</th>\n",
       "      <th>Type</th>\n",
       "    </tr>\n",
       "  </thead>\n",
       "  <tbody>\n",
       "    <tr>\n",
       "      <th>0</th>\n",
       "      <td>1.52101</td>\n",
       "      <td>13.64</td>\n",
       "      <td>4.49</td>\n",
       "      <td>1.10</td>\n",
       "      <td>71.78</td>\n",
       "      <td>0.06</td>\n",
       "      <td>8.75</td>\n",
       "      <td>0.00</td>\n",
       "      <td>0.0</td>\n",
       "      <td>1</td>\n",
       "    </tr>\n",
       "    <tr>\n",
       "      <th>1</th>\n",
       "      <td>1.51761</td>\n",
       "      <td>13.89</td>\n",
       "      <td>3.60</td>\n",
       "      <td>1.36</td>\n",
       "      <td>72.73</td>\n",
       "      <td>0.48</td>\n",
       "      <td>7.83</td>\n",
       "      <td>0.00</td>\n",
       "      <td>0.0</td>\n",
       "      <td>1</td>\n",
       "    </tr>\n",
       "    <tr>\n",
       "      <th>2</th>\n",
       "      <td>1.51618</td>\n",
       "      <td>13.53</td>\n",
       "      <td>3.55</td>\n",
       "      <td>1.54</td>\n",
       "      <td>72.99</td>\n",
       "      <td>0.39</td>\n",
       "      <td>7.78</td>\n",
       "      <td>0.00</td>\n",
       "      <td>0.0</td>\n",
       "      <td>1</td>\n",
       "    </tr>\n",
       "    <tr>\n",
       "      <th>3</th>\n",
       "      <td>1.51766</td>\n",
       "      <td>13.21</td>\n",
       "      <td>3.69</td>\n",
       "      <td>1.29</td>\n",
       "      <td>72.61</td>\n",
       "      <td>0.57</td>\n",
       "      <td>8.22</td>\n",
       "      <td>0.00</td>\n",
       "      <td>0.0</td>\n",
       "      <td>1</td>\n",
       "    </tr>\n",
       "    <tr>\n",
       "      <th>4</th>\n",
       "      <td>1.51742</td>\n",
       "      <td>13.27</td>\n",
       "      <td>3.62</td>\n",
       "      <td>1.24</td>\n",
       "      <td>73.08</td>\n",
       "      <td>0.55</td>\n",
       "      <td>8.07</td>\n",
       "      <td>0.00</td>\n",
       "      <td>0.0</td>\n",
       "      <td>1</td>\n",
       "    </tr>\n",
       "    <tr>\n",
       "      <th>...</th>\n",
       "      <td>...</td>\n",
       "      <td>...</td>\n",
       "      <td>...</td>\n",
       "      <td>...</td>\n",
       "      <td>...</td>\n",
       "      <td>...</td>\n",
       "      <td>...</td>\n",
       "      <td>...</td>\n",
       "      <td>...</td>\n",
       "      <td>...</td>\n",
       "    </tr>\n",
       "    <tr>\n",
       "      <th>209</th>\n",
       "      <td>1.51623</td>\n",
       "      <td>14.14</td>\n",
       "      <td>0.00</td>\n",
       "      <td>2.88</td>\n",
       "      <td>72.61</td>\n",
       "      <td>0.08</td>\n",
       "      <td>9.18</td>\n",
       "      <td>1.06</td>\n",
       "      <td>0.0</td>\n",
       "      <td>7</td>\n",
       "    </tr>\n",
       "    <tr>\n",
       "      <th>210</th>\n",
       "      <td>1.51685</td>\n",
       "      <td>14.92</td>\n",
       "      <td>0.00</td>\n",
       "      <td>1.99</td>\n",
       "      <td>73.06</td>\n",
       "      <td>0.00</td>\n",
       "      <td>8.40</td>\n",
       "      <td>1.59</td>\n",
       "      <td>0.0</td>\n",
       "      <td>7</td>\n",
       "    </tr>\n",
       "    <tr>\n",
       "      <th>211</th>\n",
       "      <td>1.52065</td>\n",
       "      <td>14.36</td>\n",
       "      <td>0.00</td>\n",
       "      <td>2.02</td>\n",
       "      <td>73.42</td>\n",
       "      <td>0.00</td>\n",
       "      <td>8.44</td>\n",
       "      <td>1.64</td>\n",
       "      <td>0.0</td>\n",
       "      <td>7</td>\n",
       "    </tr>\n",
       "    <tr>\n",
       "      <th>212</th>\n",
       "      <td>1.51651</td>\n",
       "      <td>14.38</td>\n",
       "      <td>0.00</td>\n",
       "      <td>1.94</td>\n",
       "      <td>73.61</td>\n",
       "      <td>0.00</td>\n",
       "      <td>8.48</td>\n",
       "      <td>1.57</td>\n",
       "      <td>0.0</td>\n",
       "      <td>7</td>\n",
       "    </tr>\n",
       "    <tr>\n",
       "      <th>213</th>\n",
       "      <td>1.51711</td>\n",
       "      <td>14.23</td>\n",
       "      <td>0.00</td>\n",
       "      <td>2.08</td>\n",
       "      <td>73.36</td>\n",
       "      <td>0.00</td>\n",
       "      <td>8.62</td>\n",
       "      <td>1.67</td>\n",
       "      <td>0.0</td>\n",
       "      <td>7</td>\n",
       "    </tr>\n",
       "  </tbody>\n",
       "</table>\n",
       "<p>214 rows × 10 columns</p>\n",
       "</div>"
      ],
      "text/plain": [
       "          RI     Na    Mg    Al     Si     K    Ca    Ba   Fe  Type\n",
       "0    1.52101  13.64  4.49  1.10  71.78  0.06  8.75  0.00  0.0     1\n",
       "1    1.51761  13.89  3.60  1.36  72.73  0.48  7.83  0.00  0.0     1\n",
       "2    1.51618  13.53  3.55  1.54  72.99  0.39  7.78  0.00  0.0     1\n",
       "3    1.51766  13.21  3.69  1.29  72.61  0.57  8.22  0.00  0.0     1\n",
       "4    1.51742  13.27  3.62  1.24  73.08  0.55  8.07  0.00  0.0     1\n",
       "..       ...    ...   ...   ...    ...   ...   ...   ...  ...   ...\n",
       "209  1.51623  14.14  0.00  2.88  72.61  0.08  9.18  1.06  0.0     7\n",
       "210  1.51685  14.92  0.00  1.99  73.06  0.00  8.40  1.59  0.0     7\n",
       "211  1.52065  14.36  0.00  2.02  73.42  0.00  8.44  1.64  0.0     7\n",
       "212  1.51651  14.38  0.00  1.94  73.61  0.00  8.48  1.57  0.0     7\n",
       "213  1.51711  14.23  0.00  2.08  73.36  0.00  8.62  1.67  0.0     7\n",
       "\n",
       "[214 rows x 10 columns]"
      ]
     },
     "execution_count": 5,
     "metadata": {},
     "output_type": "execute_result"
    }
   ],
   "source": [
    "data"
   ]
  },
  {
   "cell_type": "code",
   "execution_count": 6,
   "id": "9664946d",
   "metadata": {},
   "outputs": [
    {
     "data": {
      "text/html": [
       "<div>\n",
       "<style scoped>\n",
       "    .dataframe tbody tr th:only-of-type {\n",
       "        vertical-align: middle;\n",
       "    }\n",
       "\n",
       "    .dataframe tbody tr th {\n",
       "        vertical-align: top;\n",
       "    }\n",
       "\n",
       "    .dataframe thead th {\n",
       "        text-align: right;\n",
       "    }\n",
       "</style>\n",
       "<table border=\"1\" class=\"dataframe\">\n",
       "  <thead>\n",
       "    <tr style=\"text-align: right;\">\n",
       "      <th></th>\n",
       "      <th>RI</th>\n",
       "      <th>Na</th>\n",
       "      <th>Mg</th>\n",
       "      <th>Al</th>\n",
       "      <th>Si</th>\n",
       "      <th>K</th>\n",
       "      <th>Ca</th>\n",
       "      <th>Ba</th>\n",
       "      <th>Fe</th>\n",
       "      <th>Type</th>\n",
       "    </tr>\n",
       "  </thead>\n",
       "  <tbody>\n",
       "    <tr>\n",
       "      <th>count</th>\n",
       "      <td>214.000000</td>\n",
       "      <td>214.000000</td>\n",
       "      <td>214.000000</td>\n",
       "      <td>214.000000</td>\n",
       "      <td>214.000000</td>\n",
       "      <td>214.000000</td>\n",
       "      <td>214.000000</td>\n",
       "      <td>214.000000</td>\n",
       "      <td>214.000000</td>\n",
       "      <td>214.000000</td>\n",
       "    </tr>\n",
       "    <tr>\n",
       "      <th>mean</th>\n",
       "      <td>1.518365</td>\n",
       "      <td>13.407850</td>\n",
       "      <td>2.684533</td>\n",
       "      <td>1.444907</td>\n",
       "      <td>72.650935</td>\n",
       "      <td>0.497056</td>\n",
       "      <td>8.956963</td>\n",
       "      <td>0.175047</td>\n",
       "      <td>0.057009</td>\n",
       "      <td>2.780374</td>\n",
       "    </tr>\n",
       "    <tr>\n",
       "      <th>std</th>\n",
       "      <td>0.003037</td>\n",
       "      <td>0.816604</td>\n",
       "      <td>1.442408</td>\n",
       "      <td>0.499270</td>\n",
       "      <td>0.774546</td>\n",
       "      <td>0.652192</td>\n",
       "      <td>1.423153</td>\n",
       "      <td>0.497219</td>\n",
       "      <td>0.097439</td>\n",
       "      <td>2.103739</td>\n",
       "    </tr>\n",
       "    <tr>\n",
       "      <th>min</th>\n",
       "      <td>1.511150</td>\n",
       "      <td>10.730000</td>\n",
       "      <td>0.000000</td>\n",
       "      <td>0.290000</td>\n",
       "      <td>69.810000</td>\n",
       "      <td>0.000000</td>\n",
       "      <td>5.430000</td>\n",
       "      <td>0.000000</td>\n",
       "      <td>0.000000</td>\n",
       "      <td>1.000000</td>\n",
       "    </tr>\n",
       "    <tr>\n",
       "      <th>25%</th>\n",
       "      <td>1.516522</td>\n",
       "      <td>12.907500</td>\n",
       "      <td>2.115000</td>\n",
       "      <td>1.190000</td>\n",
       "      <td>72.280000</td>\n",
       "      <td>0.122500</td>\n",
       "      <td>8.240000</td>\n",
       "      <td>0.000000</td>\n",
       "      <td>0.000000</td>\n",
       "      <td>1.000000</td>\n",
       "    </tr>\n",
       "    <tr>\n",
       "      <th>50%</th>\n",
       "      <td>1.517680</td>\n",
       "      <td>13.300000</td>\n",
       "      <td>3.480000</td>\n",
       "      <td>1.360000</td>\n",
       "      <td>72.790000</td>\n",
       "      <td>0.555000</td>\n",
       "      <td>8.600000</td>\n",
       "      <td>0.000000</td>\n",
       "      <td>0.000000</td>\n",
       "      <td>2.000000</td>\n",
       "    </tr>\n",
       "    <tr>\n",
       "      <th>75%</th>\n",
       "      <td>1.519157</td>\n",
       "      <td>13.825000</td>\n",
       "      <td>3.600000</td>\n",
       "      <td>1.630000</td>\n",
       "      <td>73.087500</td>\n",
       "      <td>0.610000</td>\n",
       "      <td>9.172500</td>\n",
       "      <td>0.000000</td>\n",
       "      <td>0.100000</td>\n",
       "      <td>3.000000</td>\n",
       "    </tr>\n",
       "    <tr>\n",
       "      <th>max</th>\n",
       "      <td>1.533930</td>\n",
       "      <td>17.380000</td>\n",
       "      <td>4.490000</td>\n",
       "      <td>3.500000</td>\n",
       "      <td>75.410000</td>\n",
       "      <td>6.210000</td>\n",
       "      <td>16.190000</td>\n",
       "      <td>3.150000</td>\n",
       "      <td>0.510000</td>\n",
       "      <td>7.000000</td>\n",
       "    </tr>\n",
       "  </tbody>\n",
       "</table>\n",
       "</div>"
      ],
      "text/plain": [
       "               RI          Na          Mg          Al          Si           K  \\\n",
       "count  214.000000  214.000000  214.000000  214.000000  214.000000  214.000000   \n",
       "mean     1.518365   13.407850    2.684533    1.444907   72.650935    0.497056   \n",
       "std      0.003037    0.816604    1.442408    0.499270    0.774546    0.652192   \n",
       "min      1.511150   10.730000    0.000000    0.290000   69.810000    0.000000   \n",
       "25%      1.516522   12.907500    2.115000    1.190000   72.280000    0.122500   \n",
       "50%      1.517680   13.300000    3.480000    1.360000   72.790000    0.555000   \n",
       "75%      1.519157   13.825000    3.600000    1.630000   73.087500    0.610000   \n",
       "max      1.533930   17.380000    4.490000    3.500000   75.410000    6.210000   \n",
       "\n",
       "               Ca          Ba          Fe        Type  \n",
       "count  214.000000  214.000000  214.000000  214.000000  \n",
       "mean     8.956963    0.175047    0.057009    2.780374  \n",
       "std      1.423153    0.497219    0.097439    2.103739  \n",
       "min      5.430000    0.000000    0.000000    1.000000  \n",
       "25%      8.240000    0.000000    0.000000    1.000000  \n",
       "50%      8.600000    0.000000    0.000000    2.000000  \n",
       "75%      9.172500    0.000000    0.100000    3.000000  \n",
       "max     16.190000    3.150000    0.510000    7.000000  "
      ]
     },
     "execution_count": 6,
     "metadata": {},
     "output_type": "execute_result"
    }
   ],
   "source": [
    "data.describe()"
   ]
  },
  {
   "cell_type": "code",
   "execution_count": 7,
   "id": "0b60fdff",
   "metadata": {},
   "outputs": [
    {
     "name": "stdout",
     "output_type": "stream",
     "text": [
      "<class 'pandas.core.frame.DataFrame'>\n",
      "RangeIndex: 214 entries, 0 to 213\n",
      "Data columns (total 10 columns):\n",
      " #   Column  Non-Null Count  Dtype  \n",
      "---  ------  --------------  -----  \n",
      " 0   RI      214 non-null    float64\n",
      " 1   Na      214 non-null    float64\n",
      " 2   Mg      214 non-null    float64\n",
      " 3   Al      214 non-null    float64\n",
      " 4   Si      214 non-null    float64\n",
      " 5   K       214 non-null    float64\n",
      " 6   Ca      214 non-null    float64\n",
      " 7   Ba      214 non-null    float64\n",
      " 8   Fe      214 non-null    float64\n",
      " 9   Type    214 non-null    int64  \n",
      "dtypes: float64(9), int64(1)\n",
      "memory usage: 16.8 KB\n"
     ]
    }
   ],
   "source": [
    "data.info()"
   ]
  },
  {
   "cell_type": "code",
   "execution_count": 9,
   "id": "39fb2a21",
   "metadata": {},
   "outputs": [
    {
     "data": {
      "text/plain": [
       "(214, 10)"
      ]
     },
     "execution_count": 9,
     "metadata": {},
     "output_type": "execute_result"
    }
   ],
   "source": [
    "data.shape"
   ]
  },
  {
   "cell_type": "code",
   "execution_count": 10,
   "id": "cf4da642",
   "metadata": {},
   "outputs": [
    {
     "data": {
      "text/plain": [
       "RI      float64\n",
       "Na      float64\n",
       "Mg      float64\n",
       "Al      float64\n",
       "Si      float64\n",
       "K       float64\n",
       "Ca      float64\n",
       "Ba      float64\n",
       "Fe      float64\n",
       "Type      int64\n",
       "dtype: object"
      ]
     },
     "execution_count": 10,
     "metadata": {},
     "output_type": "execute_result"
    }
   ],
   "source": [
    "data.dtypes"
   ]
  },
  {
   "cell_type": "code",
   "execution_count": 11,
   "id": "857c9824",
   "metadata": {},
   "outputs": [
    {
     "name": "stderr",
     "output_type": "stream",
     "text": [
      "C:\\Users\\ADITYA\\Anaconda3\\lib\\site-packages\\seaborn\\categorical.py:3714: UserWarning: The `factorplot` function has been renamed to `catplot`. The original name will be removed in a future release. Please update your code. Note that the default `kind` in `factorplot` (`'point'`) has changed `'strip'` in `catplot`.\n",
      "  warnings.warn(msg)\n",
      "C:\\Users\\ADITYA\\Anaconda3\\lib\\site-packages\\seaborn\\categorical.py:3720: UserWarning: The `size` parameter has been renamed to `height`; please update your code.\n",
      "  warnings.warn(msg, UserWarning)\n",
      "C:\\Users\\ADITYA\\Anaconda3\\lib\\site-packages\\seaborn\\_decorators.py:36: FutureWarning: Pass the following variable as a keyword arg: x. From version 0.12, the only valid positional argument will be `data`, and passing other arguments without an explicit keyword will result in an error or misinterpretation.\n",
      "  warnings.warn(\n"
     ]
    },
    {
     "data": {
      "text/plain": [
       "<seaborn.axisgrid.FacetGrid at 0x19c3bfd19d0>"
      ]
     },
     "execution_count": 11,
     "metadata": {},
     "output_type": "execute_result"
    },
    {
     "data": {
      "image/png": "[encoded data removed]",
      "text/plain": [
       "<Figure size 720x360 with 1 Axes>"
      ]
     },
     "metadata": {
      "needs_background": "light"
     },
     "output_type": "display_data"
    }
   ],
   "source": [
    "sns.factorplot('Type', data=data, kind=\"count\",size = 5,aspect = 2)"
   ]
  },
  {
   "cell_type": "code",
   "execution_count": 13,
   "id": "acdb36d2",
   "metadata": {},
   "outputs": [
    {
     "data": {
      "image/png": "[encoded data removed]",
      "text/plain": [
       "<Figure size 936x1440 with 20 Axes>"
      ]
     },
     "metadata": {
      "needs_background": "light"
     },
     "output_type": "display_data"
    }
   ],
   "source": [
    "data.plot(kind='density', subplots=True, layout=(4,5), figsize=(13,20), sharex=False, sharey=False)\n",
    "plt.show()"
   ]
  },
  {
   "cell_type": "code",
   "execution_count": 14,
   "id": "ca390581",
   "metadata": {},
   "outputs": [
    {
     "data": {
      "image/png": "[encoded data removed]",
      "text/plain": [
       "<Figure size 936x1440 with 20 Axes>"
      ]
     },
     "metadata": {
      "needs_background": "light"
     },
     "output_type": "display_data"
    }
   ],
   "source": [
    "data.plot(kind='box', subplots=True, layout=(4,5), figsize=(13,20), sharex=False, sharey=False)\n",
    "plt.show()"
   ]
  },
  {
   "cell_type": "code",
   "execution_count": 16,
   "id": "09056e85",
   "metadata": {},
   "outputs": [
    {
     "data": {
      "text/html": [
       "<style  type=\"text/css\" >\n",
       "#T_e4864_row0_col0,#T_e4864_row1_col1,#T_e4864_row2_col2,#T_e4864_row3_col3,#T_e4864_row4_col4,#T_e4864_row5_col5,#T_e4864_row6_col6,#T_e4864_row7_col7,#T_e4864_row8_col8,#T_e4864_row9_col9{\n",
       "            background-color:  #b40426;\n",
       "            color:  #f1f1f1;\n",
       "        }#T_e4864_row0_col1{\n",
       "            background-color:  #4e68d8;\n",
       "            color:  #000000;\n",
       "        }#T_e4864_row0_col2{\n",
       "            background-color:  #b2ccfb;\n",
       "            color:  #000000;\n",
       "        }#T_e4864_row0_col3{\n",
       "            background-color:  #4961d2;\n",
       "            color:  #f1f1f1;\n",
       "        }#T_e4864_row0_col4,#T_e4864_row1_col8,#T_e4864_row2_col1,#T_e4864_row2_col3,#T_e4864_row2_col6,#T_e4864_row2_col7,#T_e4864_row2_col9,#T_e4864_row4_col0,#T_e4864_row6_col1,#T_e4864_row6_col5,#T_e4864_row9_col2{\n",
       "            background-color:  #3b4cc0;\n",
       "            color:  #f1f1f1;\n",
       "        }#T_e4864_row0_col5{\n",
       "            background-color:  #4055c8;\n",
       "            color:  #f1f1f1;\n",
       "        }#T_e4864_row0_col6{\n",
       "            background-color:  #df634e;\n",
       "            color:  #000000;\n",
       "        }#T_e4864_row0_col7,#T_e4864_row4_col2{\n",
       "            background-color:  #a9c6fd;\n",
       "            color:  #000000;\n",
       "        }#T_e4864_row0_col8{\n",
       "            background-color:  #a2c1ff;\n",
       "            color:  #000000;\n",
       "        }#T_e4864_row0_col9{\n",
       "            background-color:  #aac7fd;\n",
       "            color:  #000000;\n",
       "        }#T_e4864_row1_col0,#T_e4864_row7_col6{\n",
       "            background-color:  #85a8fc;\n",
       "            color:  #000000;\n",
       "        }#T_e4864_row1_col2,#T_e4864_row2_col0{\n",
       "            background-color:  #94b6ff;\n",
       "            color:  #000000;\n",
       "        }#T_e4864_row1_col3,#T_e4864_row5_col2{\n",
       "            background-color:  #cad8ef;\n",
       "            color:  #000000;\n",
       "        }#T_e4864_row1_col4,#T_e4864_row9_col6{\n",
       "            background-color:  #a1c0ff;\n",
       "            color:  #000000;\n",
       "        }#T_e4864_row1_col5,#T_e4864_row9_col8{\n",
       "            background-color:  #465ecf;\n",
       "            color:  #f1f1f1;\n",
       "        }#T_e4864_row1_col6{\n",
       "            background-color:  #5e7de7;\n",
       "            color:  #000000;\n",
       "        }#T_e4864_row1_col7{\n",
       "            background-color:  #e9d5cb;\n",
       "            color:  #000000;\n",
       "        }#T_e4864_row1_col9,#T_e4864_row9_col7{\n",
       "            background-color:  #f7a688;\n",
       "            color:  #000000;\n",
       "        }#T_e4864_row2_col4,#T_e4864_row2_col5,#T_e4864_row9_col0{\n",
       "            background-color:  #8badfd;\n",
       "            color:  #000000;\n",
       "        }#T_e4864_row2_col8,#T_e4864_row4_col7{\n",
       "            background-color:  #90b2fe;\n",
       "            color:  #000000;\n",
       "        }#T_e4864_row3_col0,#T_e4864_row5_col6{\n",
       "            background-color:  #5572df;\n",
       "            color:  #000000;\n",
       "        }#T_e4864_row3_col1{\n",
       "            background-color:  #abc8fd;\n",
       "            color:  #000000;\n",
       "        }#T_e4864_row3_col2,#T_e4864_row6_col3{\n",
       "            background-color:  #6a8bef;\n",
       "            color:  #000000;\n",
       "        }#T_e4864_row3_col4,#T_e4864_row7_col0{\n",
       "            background-color:  #afcafc;\n",
       "            color:  #000000;\n",
       "        }#T_e4864_row3_col5{\n",
       "            background-color:  #dadce0;\n",
       "            color:  #000000;\n",
       "        }#T_e4864_row3_col6{\n",
       "            background-color:  #6282ea;\n",
       "            color:  #000000;\n",
       "        }#T_e4864_row3_col7,#T_e4864_row7_col3{\n",
       "            background-color:  #f6bda2;\n",
       "            color:  #000000;\n",
       "        }#T_e4864_row3_col8{\n",
       "            background-color:  #6485ec;\n",
       "            color:  #000000;\n",
       "        }#T_e4864_row3_col9{\n",
       "            background-color:  #f29072;\n",
       "            color:  #000000;\n",
       "        }#T_e4864_row4_col1,#T_e4864_row4_col6,#T_e4864_row5_col0{\n",
       "            background-color:  #6e90f2;\n",
       "            color:  #000000;\n",
       "        }#T_e4864_row4_col3{\n",
       "            background-color:  #a6c4fe;\n",
       "            color:  #000000;\n",
       "        }#T_e4864_row4_col5{\n",
       "            background-color:  #5875e1;\n",
       "            color:  #000000;\n",
       "        }#T_e4864_row4_col8{\n",
       "            background-color:  #5f7fe8;\n",
       "            color:  #000000;\n",
       "        }#T_e4864_row4_col9{\n",
       "            background-color:  #e0dbd8;\n",
       "            color:  #000000;\n",
       "        }#T_e4864_row5_col1{\n",
       "            background-color:  #3c4ec2;\n",
       "            color:  #f1f1f1;\n",
       "        }#T_e4864_row5_col3{\n",
       "            background-color:  #e8d6cc;\n",
       "            color:  #000000;\n",
       "        }#T_e4864_row5_col4{\n",
       "            background-color:  #84a7fc;\n",
       "            color:  #000000;\n",
       "        }#T_e4864_row5_col7{\n",
       "            background-color:  #9fbfff;\n",
       "            color:  #000000;\n",
       "        }#T_e4864_row5_col8{\n",
       "            background-color:  #779af7;\n",
       "            color:  #000000;\n",
       "        }#T_e4864_row5_col9{\n",
       "            background-color:  #c6d6f1;\n",
       "            color:  #000000;\n",
       "        }#T_e4864_row6_col0{\n",
       "            background-color:  #dd5f4b;\n",
       "            color:  #000000;\n",
       "        }#T_e4864_row6_col2{\n",
       "            background-color:  #7295f4;\n",
       "            color:  #000000;\n",
       "        }#T_e4864_row6_col4{\n",
       "            background-color:  #81a4fb;\n",
       "            color:  #000000;\n",
       "        }#T_e4864_row6_col7{\n",
       "            background-color:  #8fb1fe;\n",
       "            color:  #000000;\n",
       "        }#T_e4864_row6_col8{\n",
       "            background-color:  #9dbdff;\n",
       "            color:  #000000;\n",
       "        }#T_e4864_row6_col9{\n",
       "            background-color:  #c9d7f0;\n",
       "            color:  #000000;\n",
       "        }#T_e4864_row7_col1{\n",
       "            background-color:  #d5dbe5;\n",
       "            color:  #000000;\n",
       "        }#T_e4864_row7_col2,#T_e4864_row7_col8{\n",
       "            background-color:  #688aef;\n",
       "            color:  #000000;\n",
       "        }#T_e4864_row7_col4{\n",
       "            background-color:  #9abbff;\n",
       "            color:  #000000;\n",
       "        }#T_e4864_row7_col5{\n",
       "            background-color:  #7ea1fa;\n",
       "            color:  #000000;\n",
       "        }#T_e4864_row7_col9{\n",
       "            background-color:  #f39778;\n",
       "            color:  #000000;\n",
       "        }#T_e4864_row8_col0{\n",
       "            background-color:  #cdd9ec;\n",
       "            color:  #000000;\n",
       "        }#T_e4864_row8_col1{\n",
       "            background-color:  #4257c9;\n",
       "            color:  #f1f1f1;\n",
       "        }#T_e4864_row8_col2{\n",
       "            background-color:  #d6dce4;\n",
       "            color:  #000000;\n",
       "        }#T_e4864_row8_col3{\n",
       "            background-color:  #96b7ff;\n",
       "            color:  #000000;\n",
       "        }#T_e4864_row8_col4,#T_e4864_row8_col7{\n",
       "            background-color:  #9bbcff;\n",
       "            color:  #000000;\n",
       "        }#T_e4864_row8_col5{\n",
       "            background-color:  #88abfd;\n",
       "            color:  #000000;\n",
       "        }#T_e4864_row8_col6{\n",
       "            background-color:  #bed2f6;\n",
       "            color:  #000000;\n",
       "        }#T_e4864_row8_col9{\n",
       "            background-color:  #a5c3fe;\n",
       "            color:  #000000;\n",
       "        }#T_e4864_row9_col1{\n",
       "            background-color:  #f3c8b2;\n",
       "            color:  #000000;\n",
       "        }#T_e4864_row9_col3{\n",
       "            background-color:  #f6a283;\n",
       "            color:  #000000;\n",
       "        }#T_e4864_row9_col4{\n",
       "            background-color:  #cfdaea;\n",
       "            color:  #000000;\n",
       "        }#T_e4864_row9_col5{\n",
       "            background-color:  #86a9fc;\n",
       "            color:  #000000;\n",
       "        }</style><table id=\"T_e4864_\" ><thead>    <tr>        <th class=\"blank level0\" ></th>        <th class=\"col_heading level0 col0\" >RI</th>        <th class=\"col_heading level0 col1\" >Na</th>        <th class=\"col_heading level0 col2\" >Mg</th>        <th class=\"col_heading level0 col3\" >Al</th>        <th class=\"col_heading level0 col4\" >Si</th>        <th class=\"col_heading level0 col5\" >K</th>        <th class=\"col_heading level0 col6\" >Ca</th>        <th class=\"col_heading level0 col7\" >Ba</th>        <th class=\"col_heading level0 col8\" >Fe</th>        <th class=\"col_heading level0 col9\" >Type</th>    </tr></thead><tbody>\n",
       "                <tr>\n",
       "                        <th id=\"T_e4864_level0_row0\" class=\"row_heading level0 row0\" >RI</th>\n",
       "                        <td id=\"T_e4864_row0_col0\" class=\"data row0 col0\" >1.000000</td>\n",
       "                        <td id=\"T_e4864_row0_col1\" class=\"data row0 col1\" >-0.191885</td>\n",
       "                        <td id=\"T_e4864_row0_col2\" class=\"data row0 col2\" >-0.122274</td>\n",
       "                        <td id=\"T_e4864_row0_col3\" class=\"data row0 col3\" >-0.407326</td>\n",
       "                        <td id=\"T_e4864_row0_col4\" class=\"data row0 col4\" >-0.542052</td>\n",
       "                        <td id=\"T_e4864_row0_col5\" class=\"data row0 col5\" >-0.289833</td>\n",
       "                        <td id=\"T_e4864_row0_col6\" class=\"data row0 col6\" >0.810403</td>\n",
       "                        <td id=\"T_e4864_row0_col7\" class=\"data row0 col7\" >-0.000386</td>\n",
       "                        <td id=\"T_e4864_row0_col8\" class=\"data row0 col8\" >0.143010</td>\n",
       "                        <td id=\"T_e4864_row0_col9\" class=\"data row0 col9\" >-0.164237</td>\n",
       "            </tr>\n",
       "            <tr>\n",
       "                        <th id=\"T_e4864_level0_row1\" class=\"row_heading level0 row1\" >Na</th>\n",
       "                        <td id=\"T_e4864_row1_col0\" class=\"data row1 col0\" >-0.191885</td>\n",
       "                        <td id=\"T_e4864_row1_col1\" class=\"data row1 col1\" >1.000000</td>\n",
       "                        <td id=\"T_e4864_row1_col2\" class=\"data row1 col2\" >-0.273732</td>\n",
       "                        <td id=\"T_e4864_row1_col3\" class=\"data row1 col3\" >0.156794</td>\n",
       "                        <td id=\"T_e4864_row1_col4\" class=\"data row1 col4\" >-0.069809</td>\n",
       "                        <td id=\"T_e4864_row1_col5\" class=\"data row1 col5\" >-0.266087</td>\n",
       "                        <td id=\"T_e4864_row1_col6\" class=\"data row1 col6\" >-0.275442</td>\n",
       "                        <td id=\"T_e4864_row1_col7\" class=\"data row1 col7\" >0.326603</td>\n",
       "                        <td id=\"T_e4864_row1_col8\" class=\"data row1 col8\" >-0.241346</td>\n",
       "                        <td id=\"T_e4864_row1_col9\" class=\"data row1 col9\" >0.502898</td>\n",
       "            </tr>\n",
       "            <tr>\n",
       "                        <th id=\"T_e4864_level0_row2\" class=\"row_heading level0 row2\" >Mg</th>\n",
       "                        <td id=\"T_e4864_row2_col0\" class=\"data row2 col0\" >-0.122274</td>\n",
       "                        <td id=\"T_e4864_row2_col1\" class=\"data row2 col1\" >-0.273732</td>\n",
       "                        <td id=\"T_e4864_row2_col2\" class=\"data row2 col2\" >1.000000</td>\n",
       "                        <td id=\"T_e4864_row2_col3\" class=\"data row2 col3\" >-0.481799</td>\n",
       "                        <td id=\"T_e4864_row2_col4\" class=\"data row2 col4\" >-0.165927</td>\n",
       "                        <td id=\"T_e4864_row2_col5\" class=\"data row2 col5\" >0.005396</td>\n",
       "                        <td id=\"T_e4864_row2_col6\" class=\"data row2 col6\" >-0.443750</td>\n",
       "                        <td id=\"T_e4864_row2_col7\" class=\"data row2 col7\" >-0.492262</td>\n",
       "                        <td id=\"T_e4864_row2_col8\" class=\"data row2 col8\" >0.083060</td>\n",
       "                        <td id=\"T_e4864_row2_col9\" class=\"data row2 col9\" >-0.744993</td>\n",
       "            </tr>\n",
       "            <tr>\n",
       "                        <th id=\"T_e4864_level0_row3\" class=\"row_heading level0 row3\" >Al</th>\n",
       "                        <td id=\"T_e4864_row3_col0\" class=\"data row3 col0\" >-0.407326</td>\n",
       "                        <td id=\"T_e4864_row3_col1\" class=\"data row3 col1\" >0.156794</td>\n",
       "                        <td id=\"T_e4864_row3_col2\" class=\"data row3 col2\" >-0.481799</td>\n",
       "                        <td id=\"T_e4864_row3_col3\" class=\"data row3 col3\" >1.000000</td>\n",
       "                        <td id=\"T_e4864_row3_col4\" class=\"data row3 col4\" >-0.005524</td>\n",
       "                        <td id=\"T_e4864_row3_col5\" class=\"data row3 col5\" >0.325958</td>\n",
       "                        <td id=\"T_e4864_row3_col6\" class=\"data row3 col6\" >-0.259592</td>\n",
       "                        <td id=\"T_e4864_row3_col7\" class=\"data row3 col7\" >0.479404</td>\n",
       "                        <td id=\"T_e4864_row3_col8\" class=\"data row3 col8\" >-0.074402</td>\n",
       "                        <td id=\"T_e4864_row3_col9\" class=\"data row3 col9\" >0.598829</td>\n",
       "            </tr>\n",
       "            <tr>\n",
       "                        <th id=\"T_e4864_level0_row4\" class=\"row_heading level0 row4\" >Si</th>\n",
       "                        <td id=\"T_e4864_row4_col0\" class=\"data row4 col0\" >-0.542052</td>\n",
       "                        <td id=\"T_e4864_row4_col1\" class=\"data row4 col1\" >-0.069809</td>\n",
       "                        <td id=\"T_e4864_row4_col2\" class=\"data row4 col2\" >-0.165927</td>\n",
       "                        <td id=\"T_e4864_row4_col3\" class=\"data row4 col3\" >-0.005524</td>\n",
       "                        <td id=\"T_e4864_row4_col4\" class=\"data row4 col4\" >1.000000</td>\n",
       "                        <td id=\"T_e4864_row4_col5\" class=\"data row4 col5\" >-0.193331</td>\n",
       "                        <td id=\"T_e4864_row4_col6\" class=\"data row4 col6\" >-0.208732</td>\n",
       "                        <td id=\"T_e4864_row4_col7\" class=\"data row4 col7\" >-0.102151</td>\n",
       "                        <td id=\"T_e4864_row4_col8\" class=\"data row4 col8\" >-0.094201</td>\n",
       "                        <td id=\"T_e4864_row4_col9\" class=\"data row4 col9\" >0.151565</td>\n",
       "            </tr>\n",
       "            <tr>\n",
       "                        <th id=\"T_e4864_level0_row5\" class=\"row_heading level0 row5\" >K</th>\n",
       "                        <td id=\"T_e4864_row5_col0\" class=\"data row5 col0\" >-0.289833</td>\n",
       "                        <td id=\"T_e4864_row5_col1\" class=\"data row5 col1\" >-0.266087</td>\n",
       "                        <td id=\"T_e4864_row5_col2\" class=\"data row5 col2\" >0.005396</td>\n",
       "                        <td id=\"T_e4864_row5_col3\" class=\"data row5 col3\" >0.325958</td>\n",
       "                        <td id=\"T_e4864_row5_col4\" class=\"data row5 col4\" >-0.193331</td>\n",
       "                        <td id=\"T_e4864_row5_col5\" class=\"data row5 col5\" >1.000000</td>\n",
       "                        <td id=\"T_e4864_row5_col6\" class=\"data row5 col6\" >-0.317836</td>\n",
       "                        <td id=\"T_e4864_row5_col7\" class=\"data row5 col7\" >-0.042618</td>\n",
       "                        <td id=\"T_e4864_row5_col8\" class=\"data row5 col8\" >-0.007719</td>\n",
       "                        <td id=\"T_e4864_row5_col9\" class=\"data row5 col9\" >-0.010054</td>\n",
       "            </tr>\n",
       "            <tr>\n",
       "                        <th id=\"T_e4864_level0_row6\" class=\"row_heading level0 row6\" >Ca</th>\n",
       "                        <td id=\"T_e4864_row6_col0\" class=\"data row6 col0\" >0.810403</td>\n",
       "                        <td id=\"T_e4864_row6_col1\" class=\"data row6 col1\" >-0.275442</td>\n",
       "                        <td id=\"T_e4864_row6_col2\" class=\"data row6 col2\" >-0.443750</td>\n",
       "                        <td id=\"T_e4864_row6_col3\" class=\"data row6 col3\" >-0.259592</td>\n",
       "                        <td id=\"T_e4864_row6_col4\" class=\"data row6 col4\" >-0.208732</td>\n",
       "                        <td id=\"T_e4864_row6_col5\" class=\"data row6 col5\" >-0.317836</td>\n",
       "                        <td id=\"T_e4864_row6_col6\" class=\"data row6 col6\" >1.000000</td>\n",
       "                        <td id=\"T_e4864_row6_col7\" class=\"data row6 col7\" >-0.112841</td>\n",
       "                        <td id=\"T_e4864_row6_col8\" class=\"data row6 col8\" >0.124968</td>\n",
       "                        <td id=\"T_e4864_row6_col9\" class=\"data row6 col9\" >0.000952</td>\n",
       "            </tr>\n",
       "            <tr>\n",
       "                        <th id=\"T_e4864_level0_row7\" class=\"row_heading level0 row7\" >Ba</th>\n",
       "                        <td id=\"T_e4864_row7_col0\" class=\"data row7 col0\" >-0.000386</td>\n",
       "                        <td id=\"T_e4864_row7_col1\" class=\"data row7 col1\" >0.326603</td>\n",
       "                        <td id=\"T_e4864_row7_col2\" class=\"data row7 col2\" >-0.492262</td>\n",
       "                        <td id=\"T_e4864_row7_col3\" class=\"data row7 col3\" >0.479404</td>\n",
       "                        <td id=\"T_e4864_row7_col4\" class=\"data row7 col4\" >-0.102151</td>\n",
       "                        <td id=\"T_e4864_row7_col5\" class=\"data row7 col5\" >-0.042618</td>\n",
       "                        <td id=\"T_e4864_row7_col6\" class=\"data row7 col6\" >-0.112841</td>\n",
       "                        <td id=\"T_e4864_row7_col7\" class=\"data row7 col7\" >1.000000</td>\n",
       "                        <td id=\"T_e4864_row7_col8\" class=\"data row7 col8\" >-0.058692</td>\n",
       "                        <td id=\"T_e4864_row7_col9\" class=\"data row7 col9\" >0.575161</td>\n",
       "            </tr>\n",
       "            <tr>\n",
       "                        <th id=\"T_e4864_level0_row8\" class=\"row_heading level0 row8\" >Fe</th>\n",
       "                        <td id=\"T_e4864_row8_col0\" class=\"data row8 col0\" >0.143010</td>\n",
       "                        <td id=\"T_e4864_row8_col1\" class=\"data row8 col1\" >-0.241346</td>\n",
       "                        <td id=\"T_e4864_row8_col2\" class=\"data row8 col2\" >0.083060</td>\n",
       "                        <td id=\"T_e4864_row8_col3\" class=\"data row8 col3\" >-0.074402</td>\n",
       "                        <td id=\"T_e4864_row8_col4\" class=\"data row8 col4\" >-0.094201</td>\n",
       "                        <td id=\"T_e4864_row8_col5\" class=\"data row8 col5\" >-0.007719</td>\n",
       "                        <td id=\"T_e4864_row8_col6\" class=\"data row8 col6\" >0.124968</td>\n",
       "                        <td id=\"T_e4864_row8_col7\" class=\"data row8 col7\" >-0.058692</td>\n",
       "                        <td id=\"T_e4864_row8_col8\" class=\"data row8 col8\" >1.000000</td>\n",
       "                        <td id=\"T_e4864_row8_col9\" class=\"data row8 col9\" >-0.188278</td>\n",
       "            </tr>\n",
       "            <tr>\n",
       "                        <th id=\"T_e4864_level0_row9\" class=\"row_heading level0 row9\" >Type</th>\n",
       "                        <td id=\"T_e4864_row9_col0\" class=\"data row9 col0\" >-0.164237</td>\n",
       "                        <td id=\"T_e4864_row9_col1\" class=\"data row9 col1\" >0.502898</td>\n",
       "                        <td id=\"T_e4864_row9_col2\" class=\"data row9 col2\" >-0.744993</td>\n",
       "                        <td id=\"T_e4864_row9_col3\" class=\"data row9 col3\" >0.598829</td>\n",
       "                        <td id=\"T_e4864_row9_col4\" class=\"data row9 col4\" >0.151565</td>\n",
       "                        <td id=\"T_e4864_row9_col5\" class=\"data row9 col5\" >-0.010054</td>\n",
       "                        <td id=\"T_e4864_row9_col6\" class=\"data row9 col6\" >0.000952</td>\n",
       "                        <td id=\"T_e4864_row9_col7\" class=\"data row9 col7\" >0.575161</td>\n",
       "                        <td id=\"T_e4864_row9_col8\" class=\"data row9 col8\" >-0.188278</td>\n",
       "                        <td id=\"T_e4864_row9_col9\" class=\"data row9 col9\" >1.000000</td>\n",
       "            </tr>\n",
       "    </tbody></table>"
      ],
      "text/plain": [
       "<pandas.io.formats.style.Styler at 0x19c3ce3d700>"
      ]
     },
     "execution_count": 16,
     "metadata": {},
     "output_type": "execute_result"
    }
   ],
   "source": [
    "cor = data.corr(method='pearson')\n",
    "cor.style.background_gradient(cmap='coolwarm')"
   ]
  },
  {
   "cell_type": "code",
   "execution_count": 18,
   "id": "5bd2c392",
   "metadata": {},
   "outputs": [],
   "source": [
    "X = np.array(data.iloc[:,3:5])\n",
    "y = np.array(data['Type'])"
   ]
  },
  {
   "cell_type": "code",
   "execution_count": 19,
   "id": "8514c5a1",
   "metadata": {},
   "outputs": [],
   "source": [
    "X_train, X_test, y_train, y_test = train_test_split(X, y, test_size=0.2, random_state=1, stratify=y)"
   ]
  },
  {
   "cell_type": "code",
   "execution_count": 20,
   "id": "f815fcc1",
   "metadata": {},
   "outputs": [],
   "source": [
    "k_values = np.arange(1,25)\n",
    "train_accuracy = []\n",
    "test_accuracy = []"
   ]
  },
  {
   "cell_type": "code",
   "execution_count": 21,
   "id": "b41005a7",
   "metadata": {},
   "outputs": [],
   "source": [
    "for i, k in enumerate(k_values):\n",
    "    knn = KNeighborsClassifier(n_neighbors=k)\n",
    "    knn.fit(X_train,y_train)\n",
    "    train_accuracy.append(knn.score(X_train, y_train))\n",
    "    test_accuracy.append(knn.score(X_test, y_test))\n"
   ]
  },
  {
   "cell_type": "code",
   "execution_count": 22,
   "id": "7a023623",
   "metadata": {},
   "outputs": [
    {
     "data": {
      "image/png": "[encoded data removed]",
      "text/plain": [
       "<Figure size 936x576 with 1 Axes>"
      ]
     },
     "metadata": {
      "needs_background": "light"
     },
     "output_type": "display_data"
    }
   ],
   "source": [
    "plt.figure(figsize=[13,8])\n",
    "plt.plot(k_values, test_accuracy, label = 'Testing Accuracy')\n",
    "plt.plot(k_values, train_accuracy, label = 'Training Accuracy')\n",
    "plt.legend()\n",
    "plt.title('-value VS Accuracy')\n",
    "plt.xlabel('Number of Neighbors')\n",
    "plt.ylabel('Accuracy')\n",
    "plt.xticks(k_values)\n",
    "plt.show()"
   ]
  },
  {
   "cell_type": "code",
   "execution_count": 23,
   "id": "ce9739e9",
   "metadata": {},
   "outputs": [],
   "source": [
    "knn = KNeighborsClassifier(n_neighbors=4)"
   ]
  },
  {
   "cell_type": "code",
   "execution_count": 24,
   "id": "8fe9f666",
   "metadata": {},
   "outputs": [],
   "source": [
    "knn.fit(X_train, y_train)\n",
    "y_pred_KNeighborsClassifier = knn.predict(X_test)"
   ]
  },
  {
   "cell_type": "code",
   "execution_count": 25,
   "id": "17f06b66",
   "metadata": {},
   "outputs": [],
   "source": [
    "scores = []\n",
    "cv_scores = []"
   ]
  },
  {
   "cell_type": "code",
   "execution_count": 31,
   "id": "b6244e7a",
   "metadata": {},
   "outputs": [
    {
     "name": "stderr",
     "output_type": "stream",
     "text": [
      "C:\\Users\\ADITYA\\Anaconda3\\lib\\site-packages\\sklearn\\model_selection\\_split.py:666: UserWarning: The least populated class in y has only 9 members, which is less than n_splits=10.\n",
      "  warnings.warn((\"The least populated class in y has only %d\"\n"
     ]
    }
   ],
   "source": [
    "score = accuracy_score(y_pred_KNeighborsClassifier,y_test)\n",
    "scores.append(score)\n",
    "score_knn=cross_val_score(knn, X,y, cv=10)\n"
   ]
  },
  {
   "cell_type": "code",
   "execution_count": 32,
   "id": "bb8fbe18",
   "metadata": {
    "scrolled": true
   },
   "outputs": [
    {
     "data": {
      "text/plain": [
       "0.6127705627705629"
      ]
     },
     "execution_count": 32,
     "metadata": {},
     "output_type": "execute_result"
    }
   ],
   "source": [
    "score_knn.mean()"
   ]
  },
  {
   "cell_type": "code",
   "execution_count": 33,
   "id": "c6dc5c80",
   "metadata": {},
   "outputs": [
    {
     "data": {
      "text/plain": [
       "0.23547117559816877"
      ]
     },
     "execution_count": 33,
     "metadata": {},
     "output_type": "execute_result"
    }
   ],
   "source": [
    "score_knn.std()*2"
   ]
  },
  {
   "cell_type": "code",
   "execution_count": 34,
   "id": "8099f6e1",
   "metadata": {},
   "outputs": [],
   "source": [
    "cv_score = score_knn.mean()"
   ]
  },
  {
   "cell_type": "code",
   "execution_count": 35,
   "id": "d90f7e35",
   "metadata": {},
   "outputs": [
    {
     "data": {
      "text/plain": [
       "[0.6127705627705629]"
      ]
     },
     "execution_count": 35,
     "metadata": {},
     "output_type": "execute_result"
    }
   ],
   "source": [
    "cv_scores.append(cv_score)\n",
    "cv_scores"
   ]
  },
  {
   "cell_type": "code",
   "execution_count": null,
   "id": "82383926",
   "metadata": {},
   "outputs": [],
   "source": []
  }
 ],
 "metadata": {
  "kernelspec": {
   "display_name": "Python 3",
   "language": "python",
   "name": "python3"
  },
  "language_info": {
   "codemirror_mode": {
    "name": "ipython",
    "version": 3
   },
   "file_extension": ".py",
   "mimetype": "text/x-python",
   "name": "python",
   "nbconvert_exporter": "python",
   "pygments_lexer": "ipython3",
   "version": "3.8.8"
  }
 },
 "nbformat": 4,
 "nbformat_minor": 5
}
